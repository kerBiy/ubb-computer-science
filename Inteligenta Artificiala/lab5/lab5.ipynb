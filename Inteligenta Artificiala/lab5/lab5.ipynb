{
 "cells": [
  {
   "metadata": {},
   "cell_type": "markdown",
   "source": [
    "# Laborator 6\n",
    "\n",
    "Ce îi poate face pe oameni fericiți? Se consideră problema predicției gradului de fericire a populației globului folosind informații despre diferite caracteristici a bunăstării respectivei populații precum Produsul intern brut al țării în care locuiesc (gross domestic product – GBP), gradul de fericire, etc.\n",
    "\n",
    "Folsind datele aferente anului 2017 (fisierul v1_world-happiness-report-2017.csv), să se realizeze o predicție a gradului de fericire în funcție:\n",
    "\n",
    "doar de Produsul intern brut (exemplu detaliat live - demo)\n",
    "doar de caracteristica \"Family\" (tema)\n",
    "de Produsul intern brut si de gradul de libertate (temă)."
   ],
   "id": "3e5d31b4bc0d869b"
  },
  {
   "metadata": {},
   "cell_type": "markdown",
   "source": "### Cu librarii exterene",
   "id": "ff9b579416eab2b6"
  },
  {
   "metadata": {
    "ExecuteTime": {
     "end_time": "2025-04-01T05:31:03.571091Z",
     "start_time": "2025-04-01T05:31:03.566330Z"
    }
   },
   "cell_type": "code",
   "source": [
    "import pandas as pd\n",
    "from sklearn.linear_model import LinearRegression\n",
    "from sklearn.metrics import mean_squared_error\n",
    "\n",
    "def run_tool_regression(file_path, feature_cols):\n",
    "    # Încarcă și curăță datele\n",
    "    df = pd.read_csv(file_path)\n",
    "\n",
    "    # Eliminăm rândurile cu valori lipsă (NaN) în coloanele relevante\n",
    "    df = df[feature_cols + [\"Happiness.Score\"]].dropna()\n",
    "\n",
    "    # Separăm inputurile și outputul\n",
    "    X = df[feature_cols]\n",
    "    y = df[\"Happiness.Score\"]\n",
    "\n",
    "    # Antrenare\n",
    "    model = LinearRegression()\n",
    "    model.fit(X, y)\n",
    "\n",
    "    # Predicție + evaluare\n",
    "    y_pred = model.predict(X)\n",
    "    mse = mean_squared_error(y, y_pred)\n",
    "\n",
    "    return model.intercept_, model.coef_.tolist(), mse"
   ],
   "id": "ae16f6f727e449fc",
   "outputs": [],
   "execution_count": 12
  },
  {
   "metadata": {
    "ExecuteTime": {
     "end_time": "2025-04-01T05:31:03.621134Z",
     "start_time": "2025-04-01T05:31:03.586373Z"
    }
   },
   "cell_type": "code",
   "source": [
    "file_paths = {\n",
    "    \"V1\": \"data/v1_world-happiness-report-2017.csv\",\n",
    "    \"V2\": \"data/v2_world-happiness-report-2017.csv\",\n",
    "    \"V3\": \"data/v3_world-happiness-report-2017.csv\"\n",
    "}\n",
    "\n",
    "scenarios = [\n",
    "    (\"PIB\", [\"Economy..GDP.per.Capita.\"]),\n",
    "    (\"Family\", [\"Family\"]),\n",
    "    (\"PIB + Libertate\", [\"Economy..GDP.per.Capita.\", \"Freedom\"])\n",
    "]\n",
    "\n",
    "for label, path in file_paths.items():\n",
    "    print(f\"\\n{label}\")\n",
    "    for name, features in scenarios:\n",
    "        intercept, coef, mse = run_tool_regression(path, features)\n",
    "        print(f\"→ {name} | Intercept: {intercept:.4f} | Coef: {coef} | MSE: {mse:.4f}\")"
   ],
   "id": "dde639f6a93e2463",
   "outputs": [
    {
     "name": "stdout",
     "output_type": "stream",
     "text": [
      "\n",
      "V1\n",
      "→ PIB | Intercept: 3.2032 | Coef: [2.1841849464150878] | MSE: 0.4322\n",
      "→ Family | Intercept: 7.2485 | Coef: [-1.2545734699510898] | MSE: 1.2714\n",
      "→ PIB + Libertate | Intercept: 2.5461 | Coef: [1.8735928859219293, 2.3557110577423854] | MSE: 0.3251\n",
      "\n",
      "V2\n",
      "→ PIB | Intercept: 3.2032 | Coef: [2.1841849464150878] | MSE: 0.4322\n",
      "→ Family | Intercept: 1.8298 | Coef: [2.96424751567571] | MSE: 0.5510\n",
      "→ PIB + Libertate | Intercept: 3.2031 | Coef: [-3068866.3347596293, 6137737.037906636] | MSE: 0.4321\n",
      "\n",
      "V3\n",
      "→ PIB | Intercept: 3.2184 | Coef: [2.1702564070923027] | MSE: 0.4375\n",
      "→ Family | Intercept: 1.8298 | Coef: [2.96424751567571] | MSE: 0.5510\n",
      "→ PIB + Libertate | Intercept: 2.5494 | Coef: [1.8673876865038552, 2.4115244508801914] | MSE: 0.3148\n"
     ]
    }
   ],
   "execution_count": 13
  },
  {
   "metadata": {},
   "cell_type": "markdown",
   "source": "### Fara Librarii externe",
   "id": "ab7db0389fc40b90"
  },
  {
   "cell_type": "code",
   "id": "initial_id",
   "metadata": {
    "collapsed": true,
    "ExecuteTime": {
     "end_time": "2025-04-01T05:31:03.703543Z",
     "start_time": "2025-04-01T05:31:03.699333Z"
    }
   },
   "source": [
    "import csv\n",
    "\n",
    "def load_data(file_path, x_columns):\n",
    "    X = []\n",
    "    Y = []\n",
    "    with open(file_path, 'r', encoding='utf-8') as f:\n",
    "        reader = csv.DictReader(f)\n",
    "        for row in reader:\n",
    "            try:\n",
    "                x_values = [float(row[col]) for col in x_columns]\n",
    "                y_value = float(row[\"Happiness.Score\"])\n",
    "                X.append(x_values)\n",
    "                Y.append(y_value)\n",
    "            except ValueError:\n",
    "                continue\n",
    "    return X, Y"
   ],
   "outputs": [],
   "execution_count": 14
  },
  {
   "metadata": {
    "ExecuteTime": {
     "end_time": "2025-04-01T05:31:06.189009Z",
     "start_time": "2025-04-01T05:31:06.183403Z"
    }
   },
   "cell_type": "code",
   "source": [
    "file_path = \"data/v3_world-happiness-report-2017.csv\"\n",
    "\n",
    "X_gdp, Y_gdp = load_data(file_path, [\"Economy..GDP.per.Capita.\"])\n",
    "\n",
    "X_family, Y_family = load_data(file_path, [\"Family\"])\n",
    "\n",
    "X_combo, Y_combo = load_data(file_path, [\"Economy..GDP.per.Capita.\", \"Freedom\"])"
   ],
   "id": "bd4cf5f45cd6c025",
   "outputs": [],
   "execution_count": 22
  },
  {
   "metadata": {
    "ExecuteTime": {
     "end_time": "2025-04-01T05:31:07.678672Z",
     "start_time": "2025-04-01T05:31:07.675824Z"
    }
   },
   "cell_type": "code",
   "source": [
    "def transpose(matrix):\n",
    "    return [list(row) for row in zip(*matrix)]\n",
    "\n",
    "def dot_product(vec1, vec2):\n",
    "    return sum(a * b for a, b in zip(vec1, vec2))\n",
    "\n",
    "def matrix_multiply(A, B):\n",
    "    B_T = transpose(B)\n",
    "    return [[dot_product(row_a, col_b) for col_b in B_T] for row_a in A]"
   ],
   "id": "d3c740d0820f28fb",
   "outputs": [],
   "execution_count": 23
  },
  {
   "metadata": {
    "ExecuteTime": {
     "end_time": "2025-04-01T05:31:09.203050Z",
     "start_time": "2025-04-01T05:31:09.198119Z"
    }
   },
   "cell_type": "code",
   "source": [
    "def identity_matrix(n):\n",
    "    return [[1 if i == j else 0 for j in range(n)] for i in range(n)]\n",
    "\n",
    "def gauss_jordan_inverse(matrix):\n",
    "    n = len(matrix)\n",
    "    A = [row[:] for row in matrix]\n",
    "    I = identity_matrix(n)\n",
    "\n",
    "    for i in range(n):\n",
    "        if A[i][i] == 0:\n",
    "            for j in range(i + 1, n):\n",
    "                if A[j][i] != 0:\n",
    "                    A[i], A[j] = A[j], A[i]\n",
    "                    I[i], I[j] = I[j], I[i]\n",
    "                    break\n",
    "            else:\n",
    "                raise ValueError(\"Matricea nu este inversabilă (pivot = 0).\")\n",
    "\n",
    "        pivot = A[i][i]\n",
    "        A[i] = [x / pivot for x in A[i]]\n",
    "        I[i] = [x / pivot for x in I[i]]\n",
    "\n",
    "        for j in range(n):\n",
    "            if i != j:\n",
    "                factor = A[j][i]\n",
    "                A[j] = [a - factor * b for a, b in zip(A[j], A[i])]\n",
    "                I[j] = [a - factor * b for a, b in zip(I[j], I[i])]\n",
    "\n",
    "    return I\n"
   ],
   "id": "dfb76ceb0cf015b0",
   "outputs": [],
   "execution_count": 24
  },
  {
   "metadata": {
    "ExecuteTime": {
     "end_time": "2025-04-01T05:31:11.505238Z",
     "start_time": "2025-04-01T05:31:11.501087Z"
    }
   },
   "cell_type": "code",
   "source": [
    "def ridge_inverse(matrix, lambda_reg=1e-8):\n",
    "    \"\"\" Returnează (X^T X + λI)^(-1) \"\"\"\n",
    "    n = len(matrix)\n",
    "    reg_matrix = [[matrix[i][j] + (lambda_reg if i == j else 0) for j in range(n)] for i in range(n)]\n",
    "    return gauss_jordan_inverse(reg_matrix)\n",
    "\n",
    "def least_squares_fit_ridge(X, Y, lambda_reg=1e-8):\n",
    "    X_bias = [[1] + row for row in X]\n",
    "    XT = transpose(X_bias)\n",
    "    XTX = matrix_multiply(XT, X_bias)\n",
    "    XTY = [[dot_product(row, Y)] for row in XT]\n",
    "    XTX_inv = ridge_inverse(XTX, lambda_reg)\n",
    "    W = matrix_multiply(XTX_inv, XTY)\n",
    "    return [w[0] for w in W]"
   ],
   "id": "514637a3491f1f01",
   "outputs": [],
   "execution_count": 25
  },
  {
   "metadata": {
    "ExecuteTime": {
     "end_time": "2025-04-01T05:31:03.764484Z",
     "start_time": "2025-04-01T05:31:03.761383Z"
    }
   },
   "cell_type": "code",
   "source": [
    "# Antrenăm modelul pe baza PIB-ului\n",
    "weights_gdp = least_squares_fit_ridge(X_gdp, Y_gdp)\n",
    "print(\"Coeficienți regresie (PIB):\", weights_gdp)\n",
    "\n",
    "# Antrenăm modelul pe baza Family\n",
    "weights_family = least_squares_fit_ridge(X_family, Y_family)\n",
    "print(\"Coeficienți regresie (Family):\", weights_family)\n",
    "\n",
    "# Antrenăm modelul pe baza PIB + Libertate\n",
    "weights_combo = least_squares_fit_ridge(X_combo, Y_combo)\n",
    "print(\"Coeficienți regresie (PIB + Libertate):\", weights_combo)"
   ],
   "id": "a681baac287698e4",
   "outputs": [
    {
     "name": "stdout",
     "output_type": "stream",
     "text": [
      "Coeficienți regresie (PIB): [3.218426796833498, 2.1702564074613093]\n",
      "Coeficienți regresie (Family): [1.8298321531871977, 2.964247515055021]\n",
      "Coeficienți regresie (PIB + Libertate): [2.5493967334566783, 1.867387687392247, 2.411524445971992]\n"
     ]
    }
   ],
   "execution_count": 19
  },
  {
   "metadata": {},
   "cell_type": "markdown",
   "source": "### Predictie si evaluare",
   "id": "f6cf4fbaa3f0e752"
  },
  {
   "metadata": {
    "ExecuteTime": {
     "end_time": "2025-04-01T05:31:03.782969Z",
     "start_time": "2025-04-01T05:31:03.780707Z"
    }
   },
   "cell_type": "code",
   "source": [
    "def predict(X, weights):\n",
    "    return [weights[0] + sum(w * x for w, x in zip(weights[1:], row)) for row in X]\n",
    "\n",
    "def mean_squared_error(y_true, y_pred):\n",
    "    n = len(y_true)\n",
    "    return sum((yt - yp) ** 2 for yt, yp in zip(y_true, y_pred)) / n"
   ],
   "id": "b2cec9da29f3a28c",
   "outputs": [],
   "execution_count": 20
  },
  {
   "metadata": {
    "ExecuteTime": {
     "end_time": "2025-04-01T05:31:17.223234Z",
     "start_time": "2025-04-01T05:31:17.219506Z"
    }
   },
   "cell_type": "code",
   "source": [
    "# Predicții\n",
    "Y_pred_gdp = predict(X_gdp, weights_gdp)\n",
    "Y_pred_family = predict(X_family, weights_family)\n",
    "Y_pred_combo = predict(X_combo, weights_combo)\n",
    "\n",
    "# Evaluare\n",
    "mse_gdp = mean_squared_error(Y_gdp, Y_pred_gdp)\n",
    "mse_family = mean_squared_error(Y_family, Y_pred_family)\n",
    "mse_combo = mean_squared_error(Y_combo, Y_pred_combo)\n",
    "\n",
    "print(f\"MSE PIB: {mse_gdp:.4f}\")\n",
    "print(f\"MSE Family: {mse_family:.4f}\")\n",
    "print(f\"MSE PIB + Libertate: {mse_combo:.4f}\")"
   ],
   "id": "697991e1df254107",
   "outputs": [
    {
     "name": "stdout",
     "output_type": "stream",
     "text": [
      "MSE PIB: 0.4375\n",
      "MSE Family: 0.5510\n",
      "MSE PIB + Libertate: 0.3148\n"
     ]
    }
   ],
   "execution_count": 26
  }
 ],
 "metadata": {
  "kernelspec": {
   "display_name": "Python 3",
   "language": "python",
   "name": "python3"
  },
  "language_info": {
   "codemirror_mode": {
    "name": "ipython",
    "version": 2
   },
   "file_extension": ".py",
   "mimetype": "text/x-python",
   "name": "python",
   "nbconvert_exporter": "python",
   "pygments_lexer": "ipython2",
   "version": "2.7.6"
  }
 },
 "nbformat": 4,
 "nbformat_minor": 5
}
