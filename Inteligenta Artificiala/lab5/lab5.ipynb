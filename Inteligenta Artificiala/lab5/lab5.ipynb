{
 "cells": [
  {
   "metadata": {},
   "cell_type": "markdown",
   "source": [
    "# Laborator 6 – Regresie liniară cu metoda celor mai mici pătrate\n",
    "\n",
    "## 🔍 Obiectiv\n",
    "Scopul acestui laborator este să construim un sistem simplu de învățare automată capabil să prezică scorul fericirii unei populații în funcție de unii factori sociali și economici. Vom implementa algoritmul de regresie liniară de la zero, fără a folosi biblioteci specializate precum NumPy sau scikit-learn.\n",
    "\n",
    "---\n",
    "\n",
    "## 📊 Datele\n",
    "Vom folosi datele din fișierul `v1_world-happiness-report-2017.csv`, care conține următoarele coloane relevante:\n",
    "- **Happiness Score**: scorul total al fericirii\n",
    "- **Economy (GDP per Capita)**: PIB-ul pe cap de locuitor\n",
    "- **Family**: sprijinul social\n",
    "- **Freedom**: libertatea de a lua decizii\n",
    "\n",
    "---\n",
    "\n",
    "## 🎯 Task-uri\n",
    "1. Predicția scorului fericirii doar pe baza PIB-ului (demo)\n",
    "2. Tema: Predicția scorului fericirii doar pe baza valorii \"Family\"\n",
    "3. Tema: Predicția scorului fericirii pe baza PIB-ului și libertății\n",
    "4. Implementare pe fișierele v2 și v3\n",
    "5. (Opțional) Evaluarea pe date corupte sau incomplete\n",
    "\n",
    "---\n",
    "\n",
    "## ⚠️ Constrângeri\n",
    "- Nu folosim biblioteci precum `numpy`, `sklearn`, `pandas` etc.\n",
    "- Scriem funcții proprii pentru toate calculele.\n",
    "- Se evaluează corectitudinea, claritatea și performanța algoritmului."
   ],
   "id": "3e5d31b4bc0d869b"
  },
  {
   "cell_type": "code",
   "id": "initial_id",
   "metadata": {
    "collapsed": true,
    "ExecuteTime": {
     "end_time": "2025-03-27T13:36:03.321444Z",
     "start_time": "2025-03-27T13:36:03.315881Z"
    }
   },
   "source": [
    "import csv\n",
    "\n",
    "def load_data(file_path, x_columns):\n",
    "    \"\"\"\n",
    "    Încarcă datele dintr-un fișier CSV și extrage coloanele relevante pentru X și coloana pentru Y.\n",
    "\n",
    "    Args:\n",
    "        file_path (str): calea către fișierul CSV\n",
    "        x_columns (list[str]): o listă cu numele coloanelor independente (X)\n",
    "\n",
    "    Returns:\n",
    "        tuple: (X, Y), unde:\n",
    "            - X este o listă de liste (fiecare sublistă conține valorile x pentru un exemplu)\n",
    "            - Y este o listă cu valorile de predicție (scorul fericirii)\n",
    "    \"\"\"\n",
    "    X = []\n",
    "    Y = []\n",
    "    with open(file_path, 'r', encoding='utf-8') as f:\n",
    "        reader = csv.DictReader(f)\n",
    "        for row in reader:\n",
    "            try:\n",
    "                x_values = [float(row[col]) for col in x_columns]\n",
    "                y_value = float(row[\"Happiness.Score\"])\n",
    "                X.append(x_values)\n",
    "                Y.append(y_value)\n",
    "            except ValueError:\n",
    "                # Dacă o valoare lipseste sau nu e conversie validă, trecem peste rând\n",
    "                continue\n",
    "    return X, Y"
   ],
   "outputs": [],
   "execution_count": 4
  },
  {
   "metadata": {
    "ExecuteTime": {
     "end_time": "2025-03-27T13:39:20.784449Z",
     "start_time": "2025-03-27T13:39:20.756485Z"
    }
   },
   "cell_type": "code",
   "source": [
    "import csv\n",
    "\n",
    "with open(\"data/v1_world-happiness-report-2017.csv\", 'r', encoding='utf-8') as f:\n",
    "    reader = csv.reader(f)\n",
    "    header = next(reader)\n",
    "    print(\"Header:\", header)\n",
    "\n",
    "# Doar pentru PIB\n",
    "X_gdp, Y_gdp = load_data(\"data/v1_world-happiness-report-2017.csv\", [\"Economy (GDP per Capita)\"])\n",
    "\n",
    "# Doar pentru Family\n",
    "X_family, Y_family = load_data(\"data/v1_world-happiness-report-2017.csv\", [\"Family\"])\n",
    "\n",
    "# Pentru PIB + Libertate\n",
    "X_combo, Y_combo = load_data(\"data/v1_world-happiness-report-2017.csv\", [\"Economy (GDP per Capita)\", \"Freedom\"])"
   ],
   "id": "bd4cf5f45cd6c025",
   "outputs": [
    {
     "name": "stdout",
     "output_type": "stream",
     "text": [
      "Header: ['Country', 'Happiness.Rank', 'Happiness.Score', 'Whisker.high', 'Whisker.low', 'Economy..GDP.per.Capita.', 'Family', 'Health..Life.Expectancy.', 'Freedom', 'Generosity', 'Trust..Government.Corruption.', 'Dystopia.Residual']\n"
     ]
    },
    {
     "ename": "KeyError",
     "evalue": "'Economy (GDP per Capita)'",
     "output_type": "error",
     "traceback": [
      "\u001B[31m---------------------------------------------------------------------------\u001B[39m",
      "\u001B[31mKeyError\u001B[39m                                  Traceback (most recent call last)",
      "\u001B[36mCell\u001B[39m\u001B[36m \u001B[39m\u001B[32mIn[7]\u001B[39m\u001B[32m, line 9\u001B[39m\n\u001B[32m      6\u001B[39m     \u001B[38;5;28mprint\u001B[39m(\u001B[33m\"\u001B[39m\u001B[33mHeader:\u001B[39m\u001B[33m\"\u001B[39m, header)\n\u001B[32m      8\u001B[39m \u001B[38;5;66;03m# Doar pentru PIB\u001B[39;00m\n\u001B[32m----> \u001B[39m\u001B[32m9\u001B[39m X_gdp, Y_gdp = \u001B[43mload_data\u001B[49m\u001B[43m(\u001B[49m\u001B[33;43m\"\u001B[39;49m\u001B[33;43mdata/v1_world-happiness-report-2017.csv\u001B[39;49m\u001B[33;43m\"\u001B[39;49m\u001B[43m,\u001B[49m\u001B[43m \u001B[49m\u001B[43m[\u001B[49m\u001B[33;43m\"\u001B[39;49m\u001B[33;43mEconomy (GDP per Capita)\u001B[39;49m\u001B[33;43m\"\u001B[39;49m\u001B[43m]\u001B[49m\u001B[43m)\u001B[49m\n\u001B[32m     11\u001B[39m \u001B[38;5;66;03m# Doar pentru Family\u001B[39;00m\n\u001B[32m     12\u001B[39m X_family, Y_family = load_data(\u001B[33m\"\u001B[39m\u001B[33mdata/v1_world-happiness-report-2017.csv\u001B[39m\u001B[33m\"\u001B[39m, [\u001B[33m\"\u001B[39m\u001B[33mFamily\u001B[39m\u001B[33m\"\u001B[39m])\n",
      "\u001B[36mCell\u001B[39m\u001B[36m \u001B[39m\u001B[32mIn[4]\u001B[39m\u001B[32m, line 22\u001B[39m, in \u001B[36mload_data\u001B[39m\u001B[34m(file_path, x_columns)\u001B[39m\n\u001B[32m     20\u001B[39m \u001B[38;5;28;01mfor\u001B[39;00m row \u001B[38;5;129;01min\u001B[39;00m reader:\n\u001B[32m     21\u001B[39m     \u001B[38;5;28;01mtry\u001B[39;00m:\n\u001B[32m---> \u001B[39m\u001B[32m22\u001B[39m         x_values = [\u001B[38;5;28mfloat\u001B[39m(\u001B[43mrow\u001B[49m\u001B[43m[\u001B[49m\u001B[43mcol\u001B[49m\u001B[43m]\u001B[49m) \u001B[38;5;28;01mfor\u001B[39;00m col \u001B[38;5;129;01min\u001B[39;00m x_columns]\n\u001B[32m     23\u001B[39m         y_value = \u001B[38;5;28mfloat\u001B[39m(row[\u001B[33m\"\u001B[39m\u001B[33mHappiness.Score\u001B[39m\u001B[33m\"\u001B[39m])\n\u001B[32m     24\u001B[39m         X.append(x_values)\n",
      "\u001B[31mKeyError\u001B[39m: 'Economy (GDP per Capita)'"
     ]
    }
   ],
   "execution_count": 7
  },
  {
   "metadata": {},
   "cell_type": "code",
   "outputs": [],
   "execution_count": null,
   "source": [
    "def transpose(matrix):\n",
    "    return [list(row) for row in zip(*matrix)]\n",
    "\n",
    "def dot_product(vec1, vec2):\n",
    "    return sum(a * b for a, b in zip(vec1, vec2))\n",
    "\n",
    "def matrix_multiply(A, B):\n",
    "    B_T = transpose(B)\n",
    "    return [[dot_product(row_a, col_b) for col_b in B_T] for row_a in A]\n",
    "\n",
    "def inverse_2x2(matrix):\n",
    "    \"\"\" Inversă pentru o matrice 2x2 – doar pentru cazuri simple cu 1 sau 2 features \"\"\"\n",
    "    a, b = matrix[0]\n",
    "    c, d = matrix[1]\n",
    "    det = a * d - b * c\n",
    "    if det == 0:\n",
    "        raise ValueError(\"Matricea nu este inversabilă.\")\n",
    "    return [[d / det, -b / det],\n",
    "            [-c / det, a / det]]\n",
    "\n",
    "def least_squares_fit(X, Y):\n",
    "    \"\"\"\n",
    "    Aplică metoda celor mai mici pătrate pentru regresie liniară.\n",
    "\n",
    "    Args:\n",
    "        X: lista de liste (m x n)\n",
    "        Y: lista de m valori reale\n",
    "\n",
    "    Returns:\n",
    "        w: lista coeficienților [w0, w1, ..., wn]\n",
    "    \"\"\"\n",
    "    # Adăugăm bias (coloană de 1)\n",
    "    X_bias = [[1] + row for row in X]  # X devine m x (n+1)\n",
    "\n",
    "    # X^T * X\n",
    "    XT = transpose(X_bias)\n",
    "    XTX = matrix_multiply(XT, X_bias)\n",
    "\n",
    "    # X^T * Y (ca matrice coloană)\n",
    "    XTY = [ [dot_product(row, Y)] for row in XT ]  # dimensiune (n+1) x 1\n",
    "\n",
    "    # Inversăm XTX (merge doar pentru 2x2 aici; dacă sunt mai mulți factori, trebuie generalizat)\n",
    "    if len(XTX) == 2:\n",
    "        XTX_inv = inverse_2x2(XTX)\n",
    "    else:\n",
    "        raise NotImplementedError(\"Momentan doar 1 sau 2 features sunt suportate.\")\n",
    "\n",
    "    # Calculăm coeficienții w = (X^T * X)^(-1) * X^T * Y\n",
    "    W = matrix_multiply(XTX_inv, XTY)  # (n+1) x 1\n",
    "\n",
    "    return [w[0] for w in W]  # extragem coeficienții într-o listă simplă"
   ],
   "id": "d3c740d0820f28fb"
  },
  {
   "metadata": {},
   "cell_type": "code",
   "outputs": [],
   "execution_count": null,
   "source": [
    "# Antrenăm modelul pe baza PIB-ului\n",
    "weights_gdp = least_squares_fit(X_gdp, Y_gdp)\n",
    "print(\"Coeficienți regresie (PIB):\", weights_gdp)\n",
    "\n",
    "# Antrenăm modelul pe baza Family\n",
    "weights_family = least_squares_fit(X_family, Y_family)\n",
    "print(\"Coeficienți regresie (Family):\", weights_family)\n",
    "\n",
    "# Antrenăm modelul pe baza PIB + Libertate\n",
    "weights_combo = least_squares_fit(X_combo, Y_combo)\n",
    "print(\"Coeficienți regresie (PIB + Libertate):\", weights_combo)"
   ],
   "id": "a681baac287698e4"
  }
 ],
 "metadata": {
  "kernelspec": {
   "display_name": "Python 3",
   "language": "python",
   "name": "python3"
  },
  "language_info": {
   "codemirror_mode": {
    "name": "ipython",
    "version": 2
   },
   "file_extension": ".py",
   "mimetype": "text/x-python",
   "name": "python",
   "nbconvert_exporter": "python",
   "pygments_lexer": "ipython2",
   "version": "2.7.6"
  }
 },
 "nbformat": 4,
 "nbformat_minor": 5
}
